{
 "cells": [
  {
   "cell_type": "code",
   "execution_count": 25,
   "metadata": {},
   "outputs": [
    {
     "name": "stderr",
     "output_type": "stream",
     "text": [
      "[nltk_data] Downloading package stopwords to /Users/sini-\n",
      "[nltk_data]     sofiakorkeakangas/nltk_data...\n",
      "[nltk_data]   Package stopwords is already up-to-date!\n"
     ]
    }
   ],
   "source": [
    "import numpy as np\n",
    "import pandas as pd\n",
    "import re\n",
    "import nltk\n",
    "from collections import Counter\n",
    "from sklearn.feature_extraction.text import CountVectorizer\n",
    "from scipy import stats as sts\n",
    "\n",
    "from sklearn.datasets import load_files\n",
    "\n",
    "nltk.download('stopwords')\n",
    "from nltk.corpus import stopwords\n",
    "\n",
    "from nltk.stem import WordNetLemmatizer\n",
    "stemmer = WordNetLemmatizer()\n",
    "\n",
    "from pylab import *\n",
    "import scipy.optimize as opt\n",
    "\n",
    "from nltk.stem import PorterStemmer \n",
    "\n",
    "ps = PorterStemmer()"
   ]
  },
  {
   "cell_type": "markdown",
   "metadata": {},
   "source": [
    "## Pre-processing"
   ]
  },
  {
   "cell_type": "code",
   "execution_count": 2,
   "metadata": {
    "scrolled": true
   },
   "outputs": [],
   "source": [
    "# Eetun funktiot\n",
    "\n",
    "def tokenizer(words):\n",
    "    # https://gist.github.com/ajnelson-nist/f93e07fca60d0fb42c5c\n",
    "    tokens_with_count = Counter(map(str.lower, book_words))\n",
    "    return tokens_with_count\n",
    "\n",
    "def token_counter(tokens_with_count):\n",
    "    tokens = sorted([k for k in tokens_with_count.keys()])\n",
    "    counts = np.array([tokens_with_count[k] for k in tokens])\n",
    "    ranks = np.arange(1, len(counts) + 1)\n",
    "    indices = np.argsort(-counts)\n",
    "    frequencies = counts[indices]\n",
    "    return ranks, indices, frequencies\n",
    "\n",
    "def sw_filter(book_words):\n",
    "    stop_words = stopwords.words('english')\n",
    "    stop_words.append('The')\n",
    "    filtered_words = [w.lower() for w in book_words if not w.lower() in stop_words]\n",
    "    ftokens_with_count = Counter(map(str.lower, filtered_words))\n",
    "    topwords = [t[0] for t in ftokens_with_count.most_common(20)]\n",
    "    doclen = len(ftokens_with_count)\n",
    "    return filtered_words, ftokens_with_count, topwords, doclen"
   ]
  },
  {
   "cell_type": "code",
   "execution_count": 3,
   "metadata": {},
   "outputs": [],
   "source": [
    "files = [\"flatland.txt\", \"panama-canal.txt\", \"ulysses.txt\"]\n",
    "books = []\n",
    "\n",
    "for f in files:\n",
    "    file = open(f, \"r\", encoding='utf-8')\n",
    "    b = re.findall(r'(\\b[A-Za-z][a-z]{2,15}\\b)', file.read())\n",
    "    books.append(b)\n",
    "    file.close()\n",
    "\n",
    "tcounts = [] # bag of words\n",
    "tokens = []\n",
    "counts = []\n",
    "for b in books:\n",
    "    words, tcs, _, _ = sw_filter(b)\n",
    "    tokens.append(list(tcs.keys()))\n",
    "    counts.append(list(tcs.values()))\n",
    "    tcounts.append(tcs)\n",
    "\n",
    "ranks = []\n",
    "freqs = []\n",
    "indices = []\n",
    "for tc in tcounts:\n",
    "    r, i, f = token_counter(tc)\n",
    "    ranks.append(r)\n",
    "    freqs.append(f)\n",
    "    indices.append(i)\n",
    "    \n",
    "for i in range(len(books)):\n",
    "    books[i] = \" \".join(books[i]).lower()"
   ]
  },
  {
   "cell_type": "code",
   "execution_count": 4,
   "metadata": {
    "scrolled": true
   },
   "outputs": [],
   "source": [
    "books = pd.DataFrame({'book_name': [\"flatland\", \"panama-canal\", \"ulysses\"], \n",
    "                      'book_text': books, 'ranks': ranks, 'freqs': freqs, \n",
    "                      'tokens': tokens, 'counts': counts})\n",
    "books = books.set_index(\"book_name\")"
   ]
  },
  {
   "cell_type": "code",
   "execution_count": 5,
   "metadata": {},
   "outputs": [
    {
     "data": {
      "text/html": [
       "<div>\n",
       "<style scoped>\n",
       "    .dataframe tbody tr th:only-of-type {\n",
       "        vertical-align: middle;\n",
       "    }\n",
       "\n",
       "    .dataframe tbody tr th {\n",
       "        vertical-align: top;\n",
       "    }\n",
       "\n",
       "    .dataframe thead th {\n",
       "        text-align: right;\n",
       "    }\n",
       "</style>\n",
       "<table border=\"1\" class=\"dataframe\">\n",
       "  <thead>\n",
       "    <tr style=\"text-align: right;\">\n",
       "      <th></th>\n",
       "      <th>book_text</th>\n",
       "      <th>ranks</th>\n",
       "      <th>freqs</th>\n",
       "      <th>tokens</th>\n",
       "      <th>counts</th>\n",
       "      <th>tokens_stem</th>\n",
       "    </tr>\n",
       "    <tr>\n",
       "      <th>book_name</th>\n",
       "      <th></th>\n",
       "      <th></th>\n",
       "      <th></th>\n",
       "      <th></th>\n",
       "      <th></th>\n",
       "      <th></th>\n",
       "    </tr>\n",
       "  </thead>\n",
       "  <tbody>\n",
       "    <tr>\n",
       "      <th>flatland</th>\n",
       "      <td>flatland edwin abbott the inhabitance and this...</td>\n",
       "      <td>[1, 2, 3, 4, 5, 6, 7, 8, 9, 10, 11, 12, 13, 14...</td>\n",
       "      <td>[155, 113, 105, 95, 82, 77, 77, 76, 75, 73, 62...</td>\n",
       "      <td>[flatland, edwin, abbott, inhabitance, work, d...</td>\n",
       "      <td>[82, 1, 1, 1, 4, 1, 7, 4, 9, 73, 1, 9, 4, 1, 2...</td>\n",
       "      <td>[flatland, edwin, abbott, inhabit, work, dedic...</td>\n",
       "    </tr>\n",
       "    <tr>\n",
       "      <th>panama-canal</th>\n",
       "      <td>produced steven gibbs barbara kosker and the o...</td>\n",
       "      <td>[1, 2, 3, 4, 5, 6, 7, 8, 9, 10, 11, 12, 13, 14...</td>\n",
       "      <td>[606, 401, 285, 269, 210, 171, 162, 140, 136, ...</td>\n",
       "      <td>[produced, steven, gibbs, barbara, kosker, onl...</td>\n",
       "      <td>[12, 1, 1, 1, 1, 1, 1, 1, 1, 1, 1, 1, 9, 10, 2...</td>\n",
       "      <td>[produc, steven, gibb, barbara, kosker, onlin,...</td>\n",
       "    </tr>\n",
       "    <tr>\n",
       "      <th>ulysses</th>\n",
       "      <td>produced david widger complete grant man propo...</td>\n",
       "      <td>[1, 2, 3, 4, 5, 6, 7, 8, 9, 10, 11, 12, 13, 14...</td>\n",
       "      <td>[1524, 1278, 1213, 1110, 1047, 871, 840, 836, ...</td>\n",
       "      <td>[produced, david, widger, complete, grant, man...</td>\n",
       "      <td>[11, 3, 1, 47, 53, 182, 2, 5, 1, 90, 28, 38, 7...</td>\n",
       "      <td>[produc, david, widger, complet, grant, man, p...</td>\n",
       "    </tr>\n",
       "  </tbody>\n",
       "</table>\n",
       "</div>"
      ],
      "text/plain": [
       "                                                      book_text  \\\n",
       "book_name                                                         \n",
       "flatland      flatland edwin abbott the inhabitance and this...   \n",
       "panama-canal  produced steven gibbs barbara kosker and the o...   \n",
       "ulysses       produced david widger complete grant man propo...   \n",
       "\n",
       "                                                          ranks  \\\n",
       "book_name                                                         \n",
       "flatland      [1, 2, 3, 4, 5, 6, 7, 8, 9, 10, 11, 12, 13, 14...   \n",
       "panama-canal  [1, 2, 3, 4, 5, 6, 7, 8, 9, 10, 11, 12, 13, 14...   \n",
       "ulysses       [1, 2, 3, 4, 5, 6, 7, 8, 9, 10, 11, 12, 13, 14...   \n",
       "\n",
       "                                                          freqs  \\\n",
       "book_name                                                         \n",
       "flatland      [155, 113, 105, 95, 82, 77, 77, 76, 75, 73, 62...   \n",
       "panama-canal  [606, 401, 285, 269, 210, 171, 162, 140, 136, ...   \n",
       "ulysses       [1524, 1278, 1213, 1110, 1047, 871, 840, 836, ...   \n",
       "\n",
       "                                                         tokens  \\\n",
       "book_name                                                         \n",
       "flatland      [flatland, edwin, abbott, inhabitance, work, d...   \n",
       "panama-canal  [produced, steven, gibbs, barbara, kosker, onl...   \n",
       "ulysses       [produced, david, widger, complete, grant, man...   \n",
       "\n",
       "                                                         counts  \\\n",
       "book_name                                                         \n",
       "flatland      [82, 1, 1, 1, 4, 1, 7, 4, 9, 73, 1, 9, 4, 1, 2...   \n",
       "panama-canal  [12, 1, 1, 1, 1, 1, 1, 1, 1, 1, 1, 1, 9, 10, 2...   \n",
       "ulysses       [11, 3, 1, 47, 53, 182, 2, 5, 1, 90, 28, 38, 7...   \n",
       "\n",
       "                                                    tokens_stem  \n",
       "book_name                                                        \n",
       "flatland      [flatland, edwin, abbott, inhabit, work, dedic...  \n",
       "panama-canal  [produc, steven, gibb, barbara, kosker, onlin,...  \n",
       "ulysses       [produc, david, widger, complet, grant, man, p...  "
      ]
     },
     "execution_count": 5,
     "metadata": {},
     "output_type": "execute_result"
    }
   ],
   "source": [
    "# Book token stemming\n",
    "\n",
    "tokens_stem = []\n",
    "for b in books.index:\n",
    "    t_stem = []\n",
    "    for w in books.loc[b, \"tokens\"]:\n",
    "        t_stem.append(ps.stem(w))\n",
    "    \n",
    "    tokens_stem.append(t_stem)\n",
    "    \n",
    "books[\"tokens_stem\"] = tokens_stem\n",
    "\n",
    "books.head()"
   ]
  },
  {
   "cell_type": "markdown",
   "metadata": {},
   "source": [
    "# Task 7.\n",
    "\n",
    "We would like to test the **Zipf’s law on word categories** instead of the whole set of words. For this purpose, **using the topic of the ebook content, suggest appropriate identification of LIWC category(ies)**; for instance, horror like ebook would entail Psychological process like categories. \n",
    "\n",
    "You should notice that LIWC full list of wording is not freely available, so you may use alternatives provided in the lecture handout or suggest your own alternative.\n",
    "\n",
    "Once appropriate category is found, you should **only construct the frequency graph with respect to words of that category**, and then try to fit the Zipf’s curve distribution. \n",
    "\n",
    "If more than one category is found to match the ebook content, **select the category that contains the higher number of words**. Devise appropriate high level description of your implementation -how this has been achieved.\n",
    "\n",
    "\n",
    "- LIWC alternative categories: http://www.wjh.harvard.edu/~inquirer/homecat.htm\n",
    "\n",
    "\n",
    "TO-DO:\n",
    "1. **Discover relevant categories** for each book, ie. categories from General Inquirer\n",
    "    - How many categories?\n",
    "    - Clustering to propose categories?\n",
    "    \n",
    "2. **Collect words belonging to each category**, e.g. by crawling the web (wikipedia might be enough)\n",
    "    \n",
    "3. Select **most frequent words** for words crawled for each category and exclude stopwords -> related words to each category\n"
   ]
  },
  {
   "cell_type": "markdown",
   "metadata": {},
   "source": [
    "### Discover relevant categories\n",
    "\n",
    "Descriptions for each book:\n",
    "\n",
    "- Ulysses: https://en.wikipedia.org/wiki/Personal_Memoirs_of_U._S._Grant\n",
    "- Flatland: https://en.wikipedia.org/wiki/Flatland\n",
    "- Panama Canal: https://www.amazon.com/Panama-Canal-History-Description-Enterprise/dp/1296899330\n",
    "\n",
    "GI categories: http://www.wjh.harvard.edu/~inquirer/homecat.htm\n",
    "\n",
    "#### Flatland\n",
    "- Mathematics / geometry / space\n",
    "- Relationships\n",
    "- Feelings\n",
    "    - GI: Pleasur (168 words), Feel (49 words)\n",
    "- Gender\n",
    "    - GI: MALE (56 words), Female (43 words)\n",
    "\n",
    "#### Ulysses\n",
    "- Military \n",
    "    - GI: Milit (88 words), \n",
    "- Politics / Legal\n",
    "    - GI: Legal (192 words), POLIT (507 words), Econ@ (510 words)\n",
    "\n",
    "#### Panama Canal\n",
    "- Industrial\n",
    "    - GI: Work (261 words), Econ@ (510 words)\n",
    "- Economics (?)\n",
    "    - GI: Econ@ (510 words)"
   ]
  },
  {
   "cell_type": "code",
   "execution_count": 7,
   "metadata": {},
   "outputs": [],
   "source": [
    "cat = pd.read_excel(\"inquirerbasic.xls\")\n",
    "\n",
    "# Drop semantic categories\n",
    "cat = cat.drop(columns=['Source', 'Positiv', 'Negativ', 'Pstv', 'Ngtv', 'Affil',\n",
    "                 'Hostile', 'Strong', 'Power', 'Weak', 'Submit', 'Active', 'Passive',\n",
    "                 'Pleasur', 'Pain', 'Feel', 'Arousal', 'EMOT', 'Virtue', 'Vice',\n",
    "                 'Ovrst', 'Undrst'])\n",
    "\n",
    "# Drop otherwise redundant categories\n",
    "cat = cat.drop(columns=['ComForm', 'COM', 'Say', 'Need', 'Goal', 'Try', 'Means', 'MeansLw',\n",
    "                       'Persist', 'Complet', 'Finish', 'Fail',])\n",
    "\n",
    "# Lowercase\n",
    "cat.Entry = cat.Entry.str.lower()\n",
    "\n",
    "# Remove numbers and certain special characters\n",
    "cat.Entry = cat.Entry.replace(to_replace=r'#|[0-9]|_', value=\"\", regex=True)\n",
    "\n",
    "# Dummy encoding\n",
    "for c in cat.columns:\n",
    "    if len(pd.unique(cat[c])) == 2:\n",
    "        cat[c] = [(1 if val == c else 0) for val in cat[c]]"
   ]
  },
  {
   "cell_type": "code",
   "execution_count": 8,
   "metadata": {},
   "outputs": [
    {
     "data": {
      "text/html": [
       "<div>\n",
       "<style scoped>\n",
       "    .dataframe tbody tr th:only-of-type {\n",
       "        vertical-align: middle;\n",
       "    }\n",
       "\n",
       "    .dataframe tbody tr th {\n",
       "        vertical-align: top;\n",
       "    }\n",
       "\n",
       "    .dataframe thead th {\n",
       "        text-align: right;\n",
       "    }\n",
       "</style>\n",
       "<table border=\"1\" class=\"dataframe\">\n",
       "  <thead>\n",
       "    <tr style=\"text-align: right;\">\n",
       "      <th></th>\n",
       "      <th>Entry</th>\n",
       "      <th>Academ</th>\n",
       "      <th>Doctrin</th>\n",
       "      <th>Econ@</th>\n",
       "      <th>Exch</th>\n",
       "      <th>ECON</th>\n",
       "      <th>Exprsv</th>\n",
       "      <th>Legal</th>\n",
       "      <th>Milit</th>\n",
       "      <th>Polit@</th>\n",
       "      <th>...</th>\n",
       "      <th>Anomie</th>\n",
       "      <th>NegAff</th>\n",
       "      <th>PosAff</th>\n",
       "      <th>SureLw</th>\n",
       "      <th>If</th>\n",
       "      <th>NotLw</th>\n",
       "      <th>TimeSpc</th>\n",
       "      <th>FormLw</th>\n",
       "      <th>Othtags</th>\n",
       "      <th>Defined</th>\n",
       "    </tr>\n",
       "  </thead>\n",
       "  <tbody>\n",
       "    <tr>\n",
       "      <th>0</th>\n",
       "      <td>a</td>\n",
       "      <td>0</td>\n",
       "      <td>0</td>\n",
       "      <td>0</td>\n",
       "      <td>0</td>\n",
       "      <td>0</td>\n",
       "      <td>0</td>\n",
       "      <td>0</td>\n",
       "      <td>0</td>\n",
       "      <td>0</td>\n",
       "      <td>...</td>\n",
       "      <td>0</td>\n",
       "      <td>0</td>\n",
       "      <td>0</td>\n",
       "      <td>0</td>\n",
       "      <td>0</td>\n",
       "      <td>0</td>\n",
       "      <td>0</td>\n",
       "      <td>0</td>\n",
       "      <td>DET ART</td>\n",
       "      <td>| article: Indefinite singular article--some o...</td>\n",
       "    </tr>\n",
       "    <tr>\n",
       "      <th>1</th>\n",
       "      <td>abandon</td>\n",
       "      <td>0</td>\n",
       "      <td>0</td>\n",
       "      <td>0</td>\n",
       "      <td>0</td>\n",
       "      <td>0</td>\n",
       "      <td>0</td>\n",
       "      <td>0</td>\n",
       "      <td>0</td>\n",
       "      <td>0</td>\n",
       "      <td>...</td>\n",
       "      <td>0</td>\n",
       "      <td>0</td>\n",
       "      <td>0</td>\n",
       "      <td>0</td>\n",
       "      <td>0</td>\n",
       "      <td>0</td>\n",
       "      <td>0</td>\n",
       "      <td>0</td>\n",
       "      <td>SUPV</td>\n",
       "      <td>|</td>\n",
       "    </tr>\n",
       "    <tr>\n",
       "      <th>2</th>\n",
       "      <td>abandonment</td>\n",
       "      <td>0</td>\n",
       "      <td>0</td>\n",
       "      <td>0</td>\n",
       "      <td>0</td>\n",
       "      <td>0</td>\n",
       "      <td>0</td>\n",
       "      <td>0</td>\n",
       "      <td>0</td>\n",
       "      <td>0</td>\n",
       "      <td>...</td>\n",
       "      <td>0</td>\n",
       "      <td>0</td>\n",
       "      <td>0</td>\n",
       "      <td>0</td>\n",
       "      <td>0</td>\n",
       "      <td>0</td>\n",
       "      <td>0</td>\n",
       "      <td>0</td>\n",
       "      <td>Noun</td>\n",
       "      <td>|</td>\n",
       "    </tr>\n",
       "    <tr>\n",
       "      <th>3</th>\n",
       "      <td>abate</td>\n",
       "      <td>0</td>\n",
       "      <td>0</td>\n",
       "      <td>0</td>\n",
       "      <td>0</td>\n",
       "      <td>0</td>\n",
       "      <td>0</td>\n",
       "      <td>0</td>\n",
       "      <td>0</td>\n",
       "      <td>0</td>\n",
       "      <td>...</td>\n",
       "      <td>0</td>\n",
       "      <td>0</td>\n",
       "      <td>0</td>\n",
       "      <td>0</td>\n",
       "      <td>0</td>\n",
       "      <td>0</td>\n",
       "      <td>0</td>\n",
       "      <td>0</td>\n",
       "      <td>SUPV</td>\n",
       "      <td>|</td>\n",
       "    </tr>\n",
       "    <tr>\n",
       "      <th>4</th>\n",
       "      <td>abatement</td>\n",
       "      <td>0</td>\n",
       "      <td>0</td>\n",
       "      <td>0</td>\n",
       "      <td>0</td>\n",
       "      <td>0</td>\n",
       "      <td>0</td>\n",
       "      <td>0</td>\n",
       "      <td>0</td>\n",
       "      <td>0</td>\n",
       "      <td>...</td>\n",
       "      <td>0</td>\n",
       "      <td>0</td>\n",
       "      <td>0</td>\n",
       "      <td>0</td>\n",
       "      <td>0</td>\n",
       "      <td>0</td>\n",
       "      <td>0</td>\n",
       "      <td>0</td>\n",
       "      <td>Noun</td>\n",
       "      <td>NaN</td>\n",
       "    </tr>\n",
       "  </tbody>\n",
       "</table>\n",
       "<p>5 rows × 152 columns</p>\n",
       "</div>"
      ],
      "text/plain": [
       "         Entry  Academ  Doctrin  Econ@  Exch  ECON  Exprsv  Legal  Milit  \\\n",
       "0            a       0        0      0     0     0       0      0      0   \n",
       "1      abandon       0        0      0     0     0       0      0      0   \n",
       "2  abandonment       0        0      0     0     0       0      0      0   \n",
       "3        abate       0        0      0     0     0       0      0      0   \n",
       "4    abatement       0        0      0     0     0       0      0      0   \n",
       "\n",
       "   Polit@  ...  Anomie  NegAff  PosAff  SureLw  If  NotLw  TimeSpc  FormLw  \\\n",
       "0       0  ...       0       0       0       0   0      0        0       0   \n",
       "1       0  ...       0       0       0       0   0      0        0       0   \n",
       "2       0  ...       0       0       0       0   0      0        0       0   \n",
       "3       0  ...       0       0       0       0   0      0        0       0   \n",
       "4       0  ...       0       0       0       0   0      0        0       0   \n",
       "\n",
       "   Othtags                                            Defined  \n",
       "0  DET ART  | article: Indefinite singular article--some o...  \n",
       "1     SUPV                                                  |  \n",
       "2     Noun                                                  |  \n",
       "3     SUPV                                                  |  \n",
       "4     Noun                                                NaN  \n",
       "\n",
       "[5 rows x 152 columns]"
      ]
     },
     "execution_count": 8,
     "metadata": {},
     "output_type": "execute_result"
    }
   ],
   "source": [
    "cat.head()"
   ]
  },
  {
   "cell_type": "markdown",
   "metadata": {},
   "source": [
    "### Categorisation\n",
    "\n",
    "- (Crawling if GI data not enough)\n",
    "- Stemming"
   ]
  },
  {
   "cell_type": "code",
   "execution_count": 85,
   "metadata": {},
   "outputs": [],
   "source": [
    "def categoriseGI(cat_columns=[cat.Academ, cat.Milit, cat.Work], cat_names=[\"Academ\", \"Milit\", \"Work\"]):\n",
    "    \"\"\"\n",
    "    cat_columns: List of categories (max length 3) in the order flatland, ulysses, panama-canal\n",
    "    cat_names: List of category names as strings (max length 3)\n",
    "    \"\"\"\n",
    "    cat_words = {'flatland': list(cat.loc[cat_columns[0] == 1, \"Entry\"].unique()),\n",
    "                 'ulysses': list(cat.loc[cat_columns[1] == 1, \"Entry\"].unique()),\n",
    "                 'panama-canal': list(cat.loc[cat_columns[2] == 1, \"Entry\"].unique())}\n",
    "    cat_names = {'flatland': cat_names[0], 'ulysses': cat_names[1], 'panama-canal': cat_names[2]}\n",
    "    \n",
    "    # Initialize stemmed words, matching words, ranks and freqs\n",
    "    cat_stem = {'flatland': [], 'ulysses': [], 'panama-canal': []}\n",
    "    cat_match = {'flatland': [], 'ulysses': [], 'panama-canal': []}\n",
    "    cat_freqs = {'flatland': [], 'ulysses': [], 'panama-canal': []}\n",
    "    cat_ranks = {'flatland': [], 'ulysses': [], 'panama-canal': []}\n",
    "    \n",
    "    # Stemming for category words\n",
    "    for b in books.index:\n",
    "        for w in cat_words[b]:\n",
    "            cat_stem[b].append(ps.stem(w))\n",
    "    \n",
    "    # Match categories\n",
    "    for b in books.index:\n",
    "        for i in range(len(books.loc[b, \"tokens_stem\"])):\n",
    "            if books.loc[b, \"tokens_stem\"][i] in cat_stem[b]:\n",
    "                cat_match[b].append(books.loc[b, \"tokens\"][i])\n",
    "                cat_freqs[b].append(books.loc[b, \"freqs\"][i])\n",
    "                cat_ranks[b].append(books.loc[b, \"ranks\"][i])\n",
    "    \n",
    "    return cat_words, cat_names, cat_stem, cat_match, cat_freqs, cat_ranks"
   ]
  },
  {
   "cell_type": "code",
   "execution_count": 96,
   "metadata": {},
   "outputs": [],
   "source": [
    "cat_words, cat_names, cat_stem, cat_match, cat_freqs, cat_ranks = categoriseGI(cat_columns=[cat.Academ, cat.Milit, cat.loc[:,\"Econ@\"]], cat_names=[\"Academ\", \"Milit\", \"Econ@\"])"
   ]
  },
  {
   "cell_type": "markdown",
   "metadata": {},
   "source": [
    "Number of matches:"
   ]
  },
  {
   "cell_type": "code",
   "execution_count": 107,
   "metadata": {},
   "outputs": [
    {
     "name": "stdout",
     "output_type": "stream",
     "text": [
      "panama-canal\n",
      "460\n",
      "----\n",
      "ulysses\n",
      "134\n",
      "----\n"
     ]
    }
   ],
   "source": [
    "for b in [\"panama-canal\", \"ulysses\"]: \n",
    "    print(b)\n",
    "    print(len(cat_freqs[b]))\n",
    "    print(\"----\")"
   ]
  },
  {
   "cell_type": "markdown",
   "metadata": {},
   "source": [
    "50 most frequent words for each book's category:"
   ]
  },
  {
   "cell_type": "code",
   "execution_count": 97,
   "metadata": {},
   "outputs": [
    {
     "name": "stdout",
     "output_type": "stream",
     "text": [
      "flatland:\n",
      "-----------------\n",
      "universe, experiences, word, course, learned, knowledge, intelligible, theory, form, universally, degrees, intelligent, intellectual, intellect, examination, board, wisdom, wise, intelligence\n",
      "\n",
      "panama-canal:\n",
      "-----------------\n",
      "produced, engineer, mine, report, tolls, trade, commerce, useful, valuable, interesting, secretary, department, bank, grant, control, reports, company, bankruptcy, occupation\n",
      "\n",
      "ulysses:\n",
      "-----------------\n",
      "general, rebellion, regimental, troops, commanders, generations, generation, army, war, battles, battle, soldiers, marching, service, private, mine, soldier, generally, regiment\n",
      "\n"
     ]
    }
   ],
   "source": [
    "n = 20\n",
    "\n",
    "for b in books.index:\n",
    "    print(b + \":\")\n",
    "    print(\"-----------------\")\n",
    "    print(\", \".join(cat_match[b][0:n-1]) + \"\\n\")"
   ]
  },
  {
   "cell_type": "markdown",
   "metadata": {},
   "source": [
    "### Results"
   ]
  },
  {
   "cell_type": "code",
   "execution_count": 90,
   "metadata": {},
   "outputs": [],
   "source": [
    "def ahat(n, rank):\n",
    "    return 1 + ( n / sum(log(rank / min(rank) - 0.5) ))"
   ]
  },
  {
   "cell_type": "code",
   "execution_count": 109,
   "metadata": {},
   "outputs": [
    {
     "data": {
      "image/png": "[encoded data removed]",
      "text/plain": [
       "<Figure size 720x720 with 2 Axes>"
      ]
     },
     "metadata": {
      "needs_background": "light"
     },
     "output_type": "display_data"
    }
   ],
   "source": [
    "n = 20\n",
    "\n",
    "# Histograms\n",
    "fig, axs = plt.subplots(2, figsize=(10,10), constrained_layout=True)\n",
    "i = 0\n",
    "\n",
    "for b in [\"panama-canal\", \"ulysses\"]:\n",
    "    axs[i].set_title(\"20 most frequent words in \" + b + \" by GI category \" + cat_names[b])\n",
    "    axs[i].bar(cat_match[b][0:n-1], cat_freqs[b][0:n-1])\n",
    "    axs[i].set_xticklabels(cat_match[b][0:n-1], rotation='vertical')\n",
    "\n",
    "    i = i+1\n",
    "plt.show()"
   ]
  },
  {
   "cell_type": "code",
   "execution_count": 99,
   "metadata": {},
   "outputs": [],
   "source": [
    "def zipf_f(x, a):\n",
    "    return x**(-a)"
   ]
  },
  {
   "cell_type": "code",
   "execution_count": 119,
   "metadata": {},
   "outputs": [
    {
     "data": {
      "image/png": "[encoded data removed]",
      "text/plain": [
       "<Figure size 720x360 with 2 Axes>"
      ]
     },
     "metadata": {
      "needs_background": "light"
     },
     "output_type": "display_data"
    },
    {
     "data": {
      "image/png": "[encoded data removed]",
      "text/plain": [
       "<Figure size 720x360 with 2 Axes>"
      ]
     },
     "metadata": {
      "needs_background": "light"
     },
     "output_type": "display_data"
    }
   ],
   "source": [
    "# Fitted Zipf\n",
    "\n",
    "i = 0\n",
    "for b in [\"panama-canal\", \"ulysses\"]:\n",
    "    fig, axs = plt.subplots(1, 2, figsize=(10,5))\n",
    "    \n",
    "    ranks = np.arange(1, len(cat_freqs[b])+1)\n",
    "    \n",
    "    a = ahat(len(ranks), ranks)\n",
    "    p = zipf_f(ranks, a)\n",
    "    \n",
    "    total = sum(np.array(cat_freqs[b]))\n",
    "    \n",
    "    # Loglog\n",
    "    axs[0].scatter(ranks, cat_freqs[b])\n",
    "    axs[0].loglog(ranks, p*total, lw=1, color=\"red\")\n",
    "    \n",
    "    axs[0].set_title(b + \" - GI category \" + cat_names[b])\n",
    "    axs[0].set_ylabel(\"Frequency of token\")\n",
    "    axs[0].set_xlabel(\"Rank of token\")\n",
    "    \n",
    "    # Linear\n",
    "    axs[1].scatter(ranks, cat_freqs[b])\n",
    "    axs[1].plot(ranks, p*total, lw=1, color=\"red\")\n",
    "    \n",
    "    axs[1].set_title(b + \" - GI category \" + cat_names[b])\n",
    "    axs[1].set_ylabel(\"Log frequency of token\")\n",
    "    axs[1].set_xlabel(\"Log rank of token\")\n",
    "    axs[1].set_xlim(0, 100)\n",
    "    \n",
    "    plt.show()\n"
   ]
  },
  {
   "cell_type": "code",
   "execution_count": null,
   "metadata": {},
   "outputs": [],
   "source": []
  }
 ],
 "metadata": {
  "kernelspec": {
   "display_name": "Python 3",
   "language": "python",
   "name": "python3"
  },
  "language_info": {
   "codemirror_mode": {
    "name": "ipython",
    "version": 3
   },
   "file_extension": ".py",
   "mimetype": "text/x-python",
   "name": "python",
   "nbconvert_exporter": "python",
   "pygments_lexer": "ipython3",
   "version": "3.8.5"
  }
 },
 "nbformat": 4,
 "nbformat_minor": 4
}
